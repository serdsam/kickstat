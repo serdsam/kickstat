{
 "cells": [
  {
   "cell_type": "code",
   "execution_count": null,
   "metadata": {},
   "outputs": [],
   "source": [
    "import kuzu"
   ]
  },
  {
   "cell_type": "code",
   "execution_count": null,
   "metadata": {},
   "outputs": [],
   "source": [
    "# Initialize and connect to the database\n",
    "db_path = './my_football_db'\n",
    "db = kuzu.Database(db_path)\n",
    "conn = kuzu.Connection(db)"
   ]
  },
  {
   "cell_type": "code",
   "execution_count": null,
   "metadata": {},
   "outputs": [],
   "source": [
    "# Function to define the schema based on the provided images\n",
    "def define_schema(connection):\n",
    "    # Add your schema definition here\n",
    "    # Example:\n",
    "    connection.execute(\"CREATE NODE TABLE Team(id INT64, name STRING, PRIMARY KEY (id))\")\n",
    "    connection.execute(\"CREATE NODE TABLE Player(id INT64, name STRING, PRIMARY KEY (id))\")\n",
    "    connection.execute(\"CREATE NODE TABLE Match(id INT64, date DATE, location STRING, PRIMARY KEY (id))\")\n",
    "    connection.execute(\"CREATE NODE TABLE Event(id INT64, type STRING, PRIMARY KEY (id))\")\n",
    "    # ... continue for other node types and relationships"
   ]
  },
  {
   "cell_type": "code",
   "execution_count": null,
   "metadata": {},
   "outputs": [],
   "source": [
    "# Function to load data into the database\n",
    "def load_data(connection):\n",
    "    # Add your data loading here\n",
    "    # Example:\n",
    "    connection.execute('COPY Team FROM \"teams.csv\"')\n",
    "    connection.execute('COPY Player FROM \"players.csv\"')\n",
    "    connection.execute('COPY Match FROM \"matches.csv\"')\n",
    "    connection.execute('COPY Event FROM \"events.csv\"')\n",
    "    # ... continue for other data files"
   ]
  },
  {
   "cell_type": "code",
   "execution_count": null,
   "metadata": {},
   "outputs": [],
   "source": [
    "\n",
    "# Query functions based on user input\n",
    "def find_matches_for_team(connection, team_name, location_preference):\n",
    "    location_query_part = \"\"\n",
    "    if location_preference == \"home\":\n",
    "        location_query_part = \"{location: 'home'}\"\n",
    "    elif location_preference == \"away\":\n",
    "        location_query_part = \"{location: 'away'}\"\n",
    "\n",
    "    query = f\"\"\"\n",
    "    MATCH (t:Team {{name: '{team_name}'}})-[:PARTICIPATED_IN]->(m:Match {location_query_part})\n",
    "    RETURN m\n",
    "    \"\"\"\n",
    "    return connection.execute(query)"
   ]
  },
  {
   "cell_type": "code",
   "execution_count": null,
   "metadata": {},
   "outputs": [],
   "source": [
    "def find_events_for_player_in_season(connection, player_name, season):\n",
    "    query = f\"\"\"\n",
    "    MATCH (p:Player {{name: '{player_name}'}})-[:INVOLVED_IN]->(e:Event)-[:OCCURRED_DURING]->(m:Match)-[:BELONGS_TO]->(s:Season {{name: '{season}'}})\n",
    "    RETURN e\n",
    "    \"\"\"\n",
    "    return connection.execute(query)\n",
    "\n",
    "def compare_players_based_on_events(connection, player_name, event_type):\n",
    "    query = f\"\"\"\n",
    "    MATCH (p:Player {{name: '{player_name}'}})-[:INVOLVED_IN]->(e:Event {{type: '{event_type}'}})\n",
    "    RETURN p.name, count(e) as event_count\n",
    "    ORDER BY event_count DESC\n",
    "    \"\"\"\n",
    "    return connection.execute(query)\n",
    "\n",
    "def find_rare_events_for_player(connection, player_name, event_type):\n",
    "    query = f\"\"\"\n",
    "    MATCH (p:Player {{name: '{player_name}'}})-[:INVOLVED_IN]->(e:Event {{type: '{event_type}'}})\n",
    "    -[:OCCURRED_DURING]->(m:Match)-[:PART_OF]->(c:Competition)\n",
    "    RETURN e, m, c\n",
    "    \"\"\"\n",
    "    return connection.execute(query)"
   ]
  },
  {
   "cell_type": "code",
   "execution_count": null,
   "metadata": {},
   "outputs": [],
   "source": [
    "\n",
    "# Example usage\n",
    "if __name__ == \"__main__\":\n",
    "    # Define the schema (only done once initially)\n",
    "    define_schema(conn)\n",
    "\n",
    "    # Load data (only done once initially)\n",
    "    load_data(conn)\n",
    "\n",
    "    # Example user input\n",
    "    user_input = {\n",
    "        'team_name': 'Arsenal',\n",
    "        'location_preference': 'home',\n",
    "        'player_name': 'M. Salah',\n",
    "        'season': '2022-2023',\n",
    "        'event_type': 'Goal'\n",
    "    }\n"
   ]
  },
  {
   "cell_type": "code",
   "execution_count": null,
   "metadata": {},
   "outputs": [],
   "source": [
    "    # Execute queries based on user input\n",
    "    team_matches = find_matches_for_team(conn, user_input['team_name'], user_input['location_preference'])\n",
    "    player_events = find_events_for_player_in_season(conn, user_input['player_name'], user_input['season'])\n",
    "    player_comparison = compare_players_based_on_events(conn, user_input['player_name'], user_input['event_type'])\n",
    "    rare_events = find_rare_events_for_player(conn, user_input['player_name'], 'Red Card')"
   ]
  },
  {
   "cell_type": "code",
   "execution_count": null,
   "metadata": {},
   "outputs": [],
   "source": [
    " # Process and print results (here you would format them as needed)\n",
    "    print(\"Team Matches:\")\n",
    "    for match in team_matches:\n",
    "        print(match)\n",
    "\n",
    "    print(\"Player Events:\")\n",
    "    for event in player_events:\n",
    "        print(event)\n",
    "\n",
    "    print(\"Player Comparison:\")\n",
    "    for comparison in player_comparison:\n",
    "        print(comparison)\n",
    "\n",
    "    print(\"Rare Events:\")\n",
    "    for event in rare_events:\n",
    "        print(event)"
   ]
  },
  {
   "cell_type": "code",
   "execution_count": null,
   "metadata": {},
   "outputs": [],
   "source": [
    "# Documentation:\n",
    "\n",
    "\n",
    "# Python Query Engine for Football Match Knowledge Graph\n",
    "# This documentation outlines the development and usage of a Python query engine for a knowledge graph of football matches. The knowledge graph is structured according to a schema that includes entities such as teams, players, matches, and events, and their interrelationships.\n",
    "\n",
    "# Schema Definition\n",
    "# The knowledge graph schema includes tables for nodes and relationships. Nodes represent entities such as Team, Player, Match, and Event. Relationships connect nodes, representing how they are related, such as a player participating in a match or an event occurring during a match.\n",
    "# The define_schema function initializes the database with this schema, creating node tables with their respective properties and primary keys, as well as relationship tables defining how nodes are connected.\n",
    "\n",
    "# Query Execution\n",
    "# find_matches_for_team\n",
    "# This function retrieves matches for a specific team, filtered by location preference (home, away, or both). It constructs a Cypher query that matches the Team node with the given team_name and finds related Match nodes based on the location_preference.\n",
    "# find_events_for_player_in_season\n",
    "# This function fetches all events a player was involved in during a specific season. It constructs a Cypher query that finds the Player node, the Event nodes related to that player, and filters by the Match nodes belonging to the specified season.\n",
    "# compare_players_based_on_events\n",
    "# This function compares players based on the count of a specific type of event they were involved in. It constructs a Cypher query that matches the Player node and counts the Event nodes of a given event_type, sorting the results to provide a comparison.\n",
    "# find_rare_events_for_player\n",
    "# This function is used to query rare events for a player and is designed to \"hop\" through the graph to retrieve related matches and competitions. It demonstrates how to extend a Cypher query to traverse multiple relationships.\n",
    "\n",
    "\n",
    "# Usage Example\n",
    "# The script is executed in a command-line environment. After defining the schema and loading data once, the user can perform various queries based on the input provided.\n",
    "# Example user input structure:\n",
    "# user_input = {\n",
    "#  'team_name': 'Arsenal',\n",
    "#  'location_preference': 'home',\n",
    "#  'player_name': 'M. Salah',\n",
    "#  'season': '2022-2023',\n",
    "#  'event_type': 'Goal'\n",
    "# }The results from each query function are printed to the console, but in a production environment, they would typically be returned to a frontend application or further processed.\n",
    "\n",
    "\n"
   ]
  }
 ],
 "metadata": {
  "language_info": {
   "name": "python"
  }
 },
 "nbformat": 4,
 "nbformat_minor": 2
}
